{
 "cells": [
  {
   "cell_type": "markdown",
   "id": "c7314e1c",
   "metadata": {},
   "source": [
    "1. Summary Statistics:\n",
    "\n",
    "Find the total weekly sales in the dataset\n",
    "Find the standard deviation"
   ]
  },
  {
   "cell_type": "code",
   "execution_count": 85,
   "id": "f6190a1f",
   "metadata": {},
   "outputs": [
    {
     "name": "stdout",
     "output_type": "stream",
     "text": [
      "Total weekly sales in Walmart is 6737218987.11\n",
      "Standard Deviation : 564366.6220536975\n"
     ]
    }
   ],
   "source": [
    "import pandas as pd\n",
    "walmart_sales = pd.read_csv(\"Walmart_Sales.csv\")\n",
    "walmart_sales.columns = walmart_sales.columns.str.strip().str.replace('\"',' ').str.replace(' ',' ')\n",
    "\n",
    "# total weekly sales in the dataset\n",
    "total_sales = walmart_sales['Weekly_Sales'].sum()\n",
    "print(f\"Total weekly sales in Walmart is {total_sales}\")\n",
    "\n",
    "#  standard deviation\n",
    "st_dev = walmart_sales['Weekly_Sales'].std()\n",
    "print(f\"Standard Deviation : {st_dev}\")"
   ]
  },
  {
   "cell_type": "markdown",
   "id": "27c8be2c",
   "metadata": {},
   "source": [
    "2. Mean and Median:\n",
    "\n",
    "Use .mean() to find average sale\n",
    "Use .median() to find middle value — is it different from mean"
   ]
  },
  {
   "cell_type": "code",
   "execution_count": null,
   "id": "79f636c6",
   "metadata": {},
   "outputs": [
    {
     "name": "stdout",
     "output_type": "stream",
     "text": [
      "The mean of Walmart Sales is 1046964.8775617715. \n",
      "The median of the Walmart Sales is 960746.04\n"
     ]
    }
   ],
   "source": [
    "# Use .mean() to find average sale\n",
    "mean_of_sales = walmart_sales['Weekly_Sales'].mean()\n",
    "\n",
    "# Use .median() to find middle value — is it different from mean\n",
    "median_of_sales = walmart_sales['Weekly_Sales'].median()\n",
    "print(f\"The mean of Walmart Sales is {mean_of_sales}. \\nThe median of the Walmart Sales is {median_of_sales}\")"
   ]
  },
  {
   "cell_type": "markdown",
   "id": "285c262d",
   "metadata": {},
   "source": [
    "3. Summarizing Dates:\n",
    "\n",
    "Find the earliest and latest sale date\n",
    "Which year has the most sales?"
   ]
  },
  {
   "cell_type": "code",
   "execution_count": 36,
   "id": "8ec67ee1",
   "metadata": {},
   "outputs": [
    {
     "name": "stdout",
     "output_type": "stream",
     "text": [
      "The earliest date of sale is 2010-02-05 00:00:00\n",
      "The latest date of dale is 2012-10-26 00:00:00\n",
      "The year with the highest total sales was 2011 with total sales of $2,448,200,007\n"
     ]
    }
   ],
   "source": [
    "walmart_sales['Date'] = pd.to_datetime(walmart_sales['Date'], dayfirst = True)\n",
    "\n",
    "# the earliest and latest sale date\n",
    "earliest_sale_date = walmart_sales['Date'].min()\n",
    "latest_sale_date = walmart_sales['Date'].max()\n",
    "print(\"The earliest date of sale is\",earliest_sale_date)\n",
    "print(\"The latest date of dale is\",latest_sale_date)\n",
    "\n",
    "# year with the most sales\n",
    "\n",
    "walmart_sales['Year'] = walmart_sales['Date'].dt.year # creating new column Year\n",
    "yearly_sales = walmart_sales.groupby('Year')['Weekly_Sales'].sum() # grouping sales by year with respect to weekly sales\n",
    "best_sales_year = yearly_sales.sort_values(ascending=False).head(1) # sorting yearly sales in descending order to get highest sales\n",
    "\n",
    "year = best_sales_year.index[0] \n",
    "sales = int(best_sales_year.values[0])\n",
    "\n",
    "print(f\"The year with the highest total sales was {year} with total sales of ${sales:,}\")"
   ]
  },
  {
   "cell_type": "markdown",
   "id": "114a4067",
   "metadata": {},
   "source": [
    "4. Efficient Summaries with .agg()\n",
    "\n",
    "Get mean, min, and max for Weekly_Sales in one line\n",
    "Summarize both Weekly_Sales and Temperature"
   ]
  },
  {
   "cell_type": "code",
   "execution_count": null,
   "id": "8b4943c2",
   "metadata": {},
   "outputs": [
    {
     "name": "stdout",
     "output_type": "stream",
     "text": [
      "The mean of the sales is $1,046,964, minimum sales is $1,046,964 and maximum sales is $1,046,964\n"
     ]
    }
   ],
   "source": [
    "aggregate_summary = walmart_sales['Weekly_Sales'].agg(['mean', 'min', 'max']) # aggregating mean, min and max\n",
    "mean = int(aggregate_summary.values[0]) # output in real number\n",
    "min = int(aggregate_summary.values[0]) # output in real number\n",
    "max = int(aggregate_summary.values[0]) # output in real number\n",
    "# printing aggregate of mean, min and max\n",
    "print(f\"The mean of the sales is ${min:,}, minimum sales is ${min:,} and maximum sales is ${max:,}\")"
   ]
  },
  {
   "cell_type": "markdown",
   "id": "89db0aaa",
   "metadata": {},
   "source": [
    "5. Cumulative Statistics\n",
    "\n",
    "Create a Cumulative_Sales column\n",
    "total sales after the first 10 rows"
   ]
  },
  {
   "cell_type": "code",
   "execution_count": 50,
   "id": "793f3acd",
   "metadata": {},
   "outputs": [
    {
     "name": "stdout",
     "output_type": "stream",
     "text": [
      "First 10 weeks of cumulative sales for Walmart:\n",
      "    Weekly_Sales  Cumulative_Sales\n",
      "0    1643690.90        1643690.90\n",
      "1    1641957.44        3285648.34\n",
      "2    1611968.17        4897616.51\n",
      "3    1409727.59        6307344.10\n",
      "4    1554806.68        7862150.78\n",
      "5    1439541.59        9301692.37\n",
      "6    1472515.79       10774208.16\n",
      "7    1404429.92       12178638.08\n",
      "8    1594968.28       13773606.36\n",
      "9    1545418.53       15319024.89\n"
     ]
    }
   ],
   "source": [
    "# creating a column for cumulative sales\n",
    "walmart_sales['Cumulative_Sales'] = walmart_sales['Weekly_Sales'].cumsum()\n",
    "\n",
    "print(\"First 10 weeks of cumulative sales for Walmart:\\n\", walmart_sales[['Weekly_Sales', 'Cumulative_Sales']].head(10))"
   ]
  },
  {
   "cell_type": "markdown",
   "id": "482e9f43",
   "metadata": {},
   "source": [
    "6. Counting with .count() and .value_counts()\n",
    "\n",
    "number of entries in Weekly_Sales\n",
    "Count how many times each store appears"
   ]
  },
  {
   "cell_type": "code",
   "execution_count": null,
   "id": "e9005a7c",
   "metadata": {},
   "outputs": [
    {
     "name": "stdout",
     "output_type": "stream",
     "text": [
      "There are 6435 entries in Weekly Sales\n"
     ]
    }
   ],
   "source": [
    "# number of entries in weekly sales\n",
    "num_of_entries = walmart_sales['Store'].count()\n",
    "print(f\"There are {num_of_entries} entries in Weekly Sales\")\n",
    "\n",
    "# counting the number of each stores\n",
    "num_of_stores_appearance = walmart_sales['Store'].value_counts()\n",
    "print(f\"Times each stores appears: \\n{num_of_stores_appearance}\")"
   ]
  },
  {
   "cell_type": "markdown",
   "id": "7c8e474f",
   "metadata": {},
   "source": [
    "7. Dropping Duplicates\n",
    "\n",
    "Drop rows with the same Store and Department\n",
    "numbers of unique store-department combinations"
   ]
  },
  {
   "cell_type": "code",
   "execution_count": null,
   "id": "1d1f0ba9",
   "metadata": {},
   "outputs": [],
   "source": [
    "# dropping rows with same Store and department\n",
    "walmart_unique_store = walmart_sales.drop_duplicates(subset=['Store'], keep='first').reset_index(drop=True)\n",
    "# .reset_index(drop=True) drop the indices of the dropped rows too which keeps dataFrame clean and tidy\n",
    "# keep = 'first' keep the first occurrence of each duplicate group, and drops the rest.\n",
    "\n",
    "print(walmart_unique_store)"
   ]
  },
  {
   "cell_type": "markdown",
   "id": "0d5137b6",
   "metadata": {},
   "source": [
    "8. Counting Categorical Variables\n",
    "\n",
    "percentage of data from each Store_Type\n",
    "most appear store type"
   ]
  },
  {
   "cell_type": "code",
   "execution_count": null,
   "id": "a9dfacb1",
   "metadata": {},
   "outputs": [
    {
     "name": "stdout",
     "output_type": "stream",
     "text": [
      "The most common store is Store 1\n"
     ]
    }
   ],
   "source": [
    "# percentage of data from each Store\n",
    "\n",
    "store_data_percent = walmart_sales['Store'].value_counts(normalize=True) * 100\n",
    "print(\"Percentage of data from each Store:\", store_data_percent)\n",
    "\n",
    "# most appear store\n",
    "most_common_store = walmart_sales['Store'].mode()[0]\n",
    "print(\"The most common store is Store\",most_common_store)"
   ]
  },
  {
   "cell_type": "markdown",
   "id": "78da9aff",
   "metadata": {},
   "source": [
    "9. Grouped Summary Statistics with .groupby()\n",
    "\n",
    "Group by Store → get average sales\n",
    "Group by Store and Department → total sales"
   ]
  },
  {
   "cell_type": "code",
   "execution_count": null,
   "id": "e218e45b",
   "metadata": {},
   "outputs": [],
   "source": [
    "# grouping stores and calculating its average sales\n",
    "grouping_store = walmart_sales.groupby('Store')['Weekly_Sales'].mean()\n",
    "grouping_store2 = walmart_sales.groupby('Store')['Weekly_Sales'].sum()\n",
    "print(f\"Grouping by store to get average sales \\n {grouping_store} \\n Grouping by store to get total sales {grouping_store2}\")"
   ]
  },
  {
   "cell_type": "markdown",
   "id": "5ca33f39",
   "metadata": {},
   "source": [
    "10. What % of Sales Occurred at Each Store Type?\n",
    "\n",
    "Calculate percentage sales per Store_Type"
   ]
  },
  {
   "cell_type": "code",
   "execution_count": 96,
   "id": "2549176e",
   "metadata": {},
   "outputs": [
    {
     "name": "stdout",
     "output_type": "stream",
     "text": [
      "Top 10 stores account for Store\n",
      "20    4.473623\n",
      "4     4.446107\n",
      "14    4.289602\n",
      "13    4.252759\n",
      "2     4.087479\n",
      "Name: Weekly_Sales, dtype: float64\n"
     ]
    }
   ],
   "source": [
    "total_sale = walmart_sales['Weekly_Sales'].sum()\n",
    "percentage_sale = ( walmart_sales.groupby('Store')['Weekly_Sales'].sum()/total_sale) * 100\n",
    "\n",
    "# store sells the most:\n",
    "top_stores = percentage_sale.sort_values(ascending=False).head()\n",
    "print(f\"Top 10 stores account for {top_stores}\")"
   ]
  },
  {
   "cell_type": "markdown",
   "id": "cce63a08",
   "metadata": {},
   "source": [
    "11. Calculations with .groupby()\n",
    "\n",
    "Group by store and compute each store's % of total sales"
   ]
  },
  {
   "cell_type": "code",
   "execution_count": 108,
   "id": "a9177860",
   "metadata": {},
   "outputs": [
    {
     "name": "stdout",
     "output_type": "stream",
     "text": [
      "   Store        Date  Weekly_Sales  Holiday_Flag  Temperature  Fuel_Price  \\\n",
      "0      1  05-02-2010    1643690.90             0        42.31       2.572   \n",
      "1      1  12-02-2010    1641957.44             1        38.51       2.548   \n",
      "2      1  19-02-2010    1611968.17             0        39.93       2.514   \n",
      "3      1  26-02-2010    1409727.59             0        46.63       2.561   \n",
      "4      1  05-03-2010    1554806.68             0        46.50       2.625   \n",
      "\n",
      "          CPI  Unemployment  Sales_Percentage  \n",
      "0  211.096358         8.106          3.301107  \n",
      "1  211.242170         8.106          3.301107  \n",
      "2  211.289143         8.106          3.301107  \n",
      "3  211.319643         8.106          3.301107  \n",
      "4  211.350143         8.106          3.301107  \n"
     ]
    }
   ],
   "source": [
    "# Group by store and compute each store's % of total sales\n",
    "grouped = walmart_sales.groupby('Store')['Weekly_Sales'].sum()\n",
    "walmart_sales['Sales_Percentage'] = (walmart_sales['Store'].map(grouped)/walmart_sales['Weekly_Sales'].sum()) * 100\n",
    "print(walmart_sales.head())"
   ]
  },
  {
   "cell_type": "markdown",
   "id": "1b2537ee",
   "metadata": {},
   "source": [
    "12. Multiple Grouped Summaries\n",
    "\n",
    "Show min, mean, max sales per store"
   ]
  },
  {
   "cell_type": "code",
   "execution_count": null,
   "id": "a3d92ed7",
   "metadata": {},
   "outputs": [],
   "source": [
    "sales_per_store = walmart_sales.groupby('Store')['Weekly_Sales'].agg(['min','mean','max'])\n",
    "pd.set_option('display.float_format', '{:,.0f}'.format)\n",
    "print(sales_per_store)"
   ]
  },
  {
   "cell_type": "markdown",
   "id": "14d287a3",
   "metadata": {},
   "source": [
    "13. Pivot Tables\n",
    "\n",
    "Create a pivot table showing average sales per store per type"
   ]
  },
  {
   "cell_type": "code",
   "execution_count": 118,
   "id": "cdce29ec",
   "metadata": {},
   "outputs": [
    {
     "name": "stdout",
     "output_type": "stream",
     "text": [
      "Pivot Table - Average Weekly Sales by Store and Holiday_Flag:\n"
     ]
    }
   ],
   "source": [
    "pivot_table0 = walmart_sales.pivot_table(values='Weekly_Sales', index='Store', columns='Holiday_Flag', aggfunc='mean')\n",
    "print(\"Pivot Table - Average Weekly Sales by Store and Holiday_Flag:\")\n",
    "# print(pivot_table0)"
   ]
  },
  {
   "cell_type": "markdown",
   "id": "1fedc8e1",
   "metadata": {},
   "source": [
    "14. Filling Missing Values in Pivot Tables\n",
    "\n",
    "Create pivot table with missing values replaced with 0\n",
    "Sum values instead of averaging"
   ]
  },
  {
   "cell_type": "code",
   "execution_count": null,
   "id": "7a96e4a6",
   "metadata": {},
   "outputs": [
    {
     "name": "stdout",
     "output_type": "stream",
     "text": [
      "Pivot Table - Sum of Weekly Sales by Store and Holiday_Flag (NaNs filled with 0):\n"
     ]
    }
   ],
   "source": [
    "# Create pivot table with missing values replaced with 0, summing values\n",
    "pivot_table_sum = walmart_sales.pivot_table(values='Weekly_Sales', index='Store', columns='Holiday_Flag', aggfunc='sum', fill_value=0)\n",
    "print(\"Pivot Table - Sum of Weekly Sales by Store and Holiday_Flag (NaNs filled with 0):\")\n",
    "print(pivot_table_sum)"
   ]
  }
 ],
 "metadata": {
  "kernelspec": {
   "display_name": "Python 3",
   "language": "python",
   "name": "python3"
  },
  "language_info": {
   "codemirror_mode": {
    "name": "ipython",
    "version": 3
   },
   "file_extension": ".py",
   "mimetype": "text/x-python",
   "name": "python",
   "nbconvert_exporter": "python",
   "pygments_lexer": "ipython3",
   "version": "3.11.9"
  }
 },
 "nbformat": 4,
 "nbformat_minor": 5
}
