{
 "cells": [
  {
   "cell_type": "markdown",
   "id": "84bb1c97",
   "metadata": {},
   "source": [
    "Practice Challenge\n",
    "\n",
    "Load a CSV file with missing values\n",
    "Load an Excel file with multiple sheets\n",
    "Load a nested JSON file and flatten it"
   ]
  },
  {
   "cell_type": "code",
   "execution_count": null,
   "id": "69621fb9",
   "metadata": {},
   "outputs": [
    {
     "name": "stdout",
     "output_type": "stream",
     "text": [
      "       Make Colour  Odometer (KM)  Doors    Price\n",
      "0     Honda  White        35431.0    4.0  15323.0\n",
      "1       BMW   Blue       192714.0    5.0  19943.0\n",
      "2     Honda  White        84714.0    4.0  28343.0\n",
      "3    Toyota  White       154365.0    4.0  13434.0\n",
      "4    Nissan   Blue       181577.0    3.0  14043.0\n",
      "..      ...    ...            ...    ...      ...\n",
      "994     BMW   Blue       163322.0    3.0  31666.0\n",
      "995  Toyota  Black        35820.0    4.0  32042.0\n",
      "997  Nissan   Blue        66604.0    4.0  31570.0\n",
      "998   Honda  White       215883.0    4.0   4001.0\n",
      "999  Toyota   Blue       248360.0    4.0  12732.0\n",
      "\n",
      "[773 rows x 5 columns]\n",
      "       Make Colour  Odometer (KM)  Doors    Price\n",
      "0     Honda  White        35431.0    4.0  15323.0\n",
      "1       BMW   Blue       192714.0    5.0  19943.0\n",
      "2     Honda  White        84714.0    4.0  28343.0\n",
      "3    Toyota  White       154365.0    4.0  13434.0\n",
      "4    Nissan   Blue       181577.0    3.0  14043.0\n",
      "..      ...    ...            ...    ...      ...\n",
      "995  Toyota  Black        35820.0    4.0  32042.0\n",
      "996       0  White       155144.0    3.0   5716.0\n",
      "997  Nissan   Blue        66604.0    4.0  31570.0\n",
      "998   Honda  White       215883.0    4.0   4001.0\n",
      "999  Toyota   Blue       248360.0    4.0  12732.0\n",
      "\n",
      "[1000 rows x 5 columns]\n"
     ]
    }
   ],
   "source": [
    "import pandas as pd\n",
    "\n",
    "df = pd.read_csv(\"car-sales.csv\")\n",
    "print(df.head(), \"\\n\")\n",
    "print(df.tail(), \"\\n\")\n",
    "print(df.shape, \"\\n\")\n",
    "print(df.info(), \"\\n\")\n",
    "print(df.describe(), \"\\n\")\n",
    "print(df.isnull().sum())\n",
    "print(df.dropna())\n",
    "print(df.fillna(0))"
   ]
  },
  {
   "cell_type": "code",
   "execution_count": 42,
   "id": "94175d1d",
   "metadata": {},
   "outputs": [
    {
     "name": "stdout",
     "output_type": "stream",
     "text": [
      "['Sheet1']\n",
      "      Segment  Country    Product Discount Band  Units Sold  \\\n",
      "0  Government   Canada  Carretera           NaN      1618.5   \n",
      "1  Government  Germany  Carretera           NaN      1321.0   \n",
      "2   Midmarket   France  Carretera           NaN      2178.0   \n",
      "3   Midmarket  Germany  Carretera           NaN       888.0   \n",
      "4   Midmarket   Mexico  Carretera           NaN      2470.0   \n",
      "\n",
      "   Manufacturing Price  Sale Price  Gross Sales  Discounts    Sales     COGS  \\\n",
      "0                    3          20      32370.0        0.0  32370.0  16185.0   \n",
      "1                    3          20      26420.0        0.0  26420.0  13210.0   \n",
      "2                    3          15      32670.0        0.0  32670.0  21780.0   \n",
      "3                    3          15      13320.0        0.0  13320.0   8880.0   \n",
      "4                    3          15      37050.0        0.0  37050.0  24700.0   \n",
      "\n",
      "    Profit       Date  Month Number Month Name  Year  \n",
      "0  16185.0 2014-01-01             1    January  2014  \n",
      "1  13210.0 2014-01-01             1    January  2014  \n",
      "2  10890.0 2014-06-01             6       June  2014  \n",
      "3   4440.0 2014-06-01             6       June  2014  \n",
      "4  12350.0 2014-06-01             6       June  2014  \n",
      "(700, 16)\n"
     ]
    }
   ],
   "source": [
    "excel_file = pd.ExcelFile(\"Financial_Sample.xlsx\", engine=\"openpyxl\")\n",
    "\n",
    "print(excel_file.sheet_names)\n",
    "df_sheet1 = pd.read_excel(\"Financial_Sample.xlsx\", sheet_name=\"Sheet1\")\n",
    "# print(df_sheet1)\n",
    "print(df_sheet1.head())\n",
    "print(df_sheet1.shape)"
   ]
  },
  {
   "cell_type": "code",
   "execution_count": 44,
   "id": "bf237133",
   "metadata": {},
   "outputs": [
    {
     "name": "stdout",
     "output_type": "stream",
     "text": [
      "                                       coffee.region  coffee.country.id  \\\n",
      "0  [{'id': 1, 'name': 'John Doe'}, {'id': 2, 'nam...                  2   \n",
      "\n",
      "  coffee.country.company                                     brewing.region  \\\n",
      "0                   ACME  [{'id': 1, 'name': 'John Doe'}, {'id': 2, 'nam...   \n",
      "\n",
      "   brewing.country.id brewing.country.company  \n",
      "0                   2                    ACME  \n"
     ]
    }
   ],
   "source": [
    "import json\n",
    "from pandas import json_normalize\n",
    "with open(\"sample_nested.json\") as file:\n",
    "    data = json.load(file)\n",
    "\n",
    "flat_df = json_normalize(data)  # Flatten nested JSON\n",
    "print(flat_df.head())"
   ]
  }
 ],
 "metadata": {
  "kernelspec": {
   "display_name": "Python 3",
   "language": "python",
   "name": "python3"
  },
  "language_info": {
   "codemirror_mode": {
    "name": "ipython",
    "version": 3
   },
   "file_extension": ".py",
   "mimetype": "text/x-python",
   "name": "python",
   "nbconvert_exporter": "python",
   "pygments_lexer": "ipython3",
   "version": "3.11.9"
  }
 },
 "nbformat": 4,
 "nbformat_minor": 5
}
