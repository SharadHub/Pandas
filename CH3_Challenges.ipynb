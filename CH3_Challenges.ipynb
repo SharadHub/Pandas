{
 "cells": [
  {
   "cell_type": "markdown",
   "id": "5b334f84",
   "metadata": {},
   "source": [
    "Sorting by Indexes"
   ]
  },
  {
   "cell_type": "code",
   "execution_count": 7,
   "id": "e6a0569c",
   "metadata": {},
   "outputs": [
    {
     "name": "stdout",
     "output_type": "stream",
     "text": [
      "The original Dataframe is: \n",
      "   Price  Item\n",
      "c     10   Pen\n",
      "a     50  Book\n",
      "b    200   Bag\n",
      "\n",
      "Sorting in ascending order: \n",
      "   Price  Item\n",
      "a     50  Book\n",
      "b    200   Bag\n",
      "c     10   Pen\n",
      "\n",
      "Sorting in descending order: \n",
      "   Price  Item\n",
      "c     10   Pen\n",
      "b    200   Bag\n",
      "a     50  Book\n",
      "\n",
      "Sorted by column Index: \n",
      "   Item  Price\n",
      "c   Pen     10\n",
      "a  Book     50\n",
      "b   Bag    200\n"
     ]
    }
   ],
   "source": [
    "# Create a DataFrame with random index\n",
    "import pandas as pd\n",
    "data = {'Price': [10, 50, 200], 'Item': ['Pen', 'Book', 'Bag']}\n",
    "df = pd.DataFrame(data, index=['c', 'a', 'b'])\n",
    "\n",
    "# 1. Print original DataFrame\n",
    "print(f\"The original Dataframe is: \\n{df}\\n\")\n",
    "\n",
    "# 2. Sort by index ascending\n",
    "print(f\"Sorting in ascending order: \\n{df.sort_index(ascending=True)}\\n\")\n",
    "\n",
    "# 3. Sort by index descending\n",
    "print(f\"Sorting in descending order: \\n{df.sort_index(ascending=False)}\\n\")\n",
    "\n",
    "# 4. Sort column index\n",
    "print(f\"Sorted by column Index: \\n{df.sort_index(axis=1)}\")"
   ]
  },
  {
   "cell_type": "code",
   "execution_count": null,
   "id": "0c38017e",
   "metadata": {},
   "outputs": [
    {
     "name": "stdout",
     "output_type": "stream",
     "text": [
      "           Product  Price\n",
      "2023-03-10     Pen     10\n",
      "2021-06-15    Book     50\n",
      "2022-01-01     Bag    200\n"
     ]
    }
   ],
   "source": [
    "index = pd.to_datetime(['2023-03-10', '2021-06-15', '2022-01-01'])\n",
    "data = {'Product': ['Pen', 'Book', 'Bag'], 'Price': [10, 50, 200]}\n",
    "df = pd.DataFrame(data, index=index)\n",
    "print(df)\n",
    "# making dates the index of the DataFrame"
   ]
  },
  {
   "cell_type": "markdown",
   "id": "73a817ad",
   "metadata": {},
   "source": [
    "Slicing and Subsetting"
   ]
  },
  {
   "cell_type": "code",
   "execution_count": 12,
   "id": "0ee312bb",
   "metadata": {},
   "outputs": [
    {
     "name": "stdout",
     "output_type": "stream",
     "text": [
      "  Product  Price\n",
      "b     Pen     10\n",
      "c  Laptop   1000\n",
      "d   Mouse     25 \n",
      "\n",
      "  Product  Price\n",
      "a    Book     50\n",
      "e     Bag    200 \n",
      "\n",
      "  Product  Price\n",
      "b     Pen     10\n",
      "c  Laptop   1000\n",
      "d   Mouse     25 \n",
      "\n",
      "  Product  Price\n",
      "a    Book     50\n",
      "e     Bag    200\n"
     ]
    }
   ],
   "source": [
    "import pandas as pd\n",
    "\n",
    "data = {\n",
    "    'Product': ['Book', 'Pen', 'Laptop', 'Mouse', 'Bag'],\n",
    "    'Price': [50, 10, 1000, 25, 200]\n",
    "}\n",
    "df = pd.DataFrame(data, index=['a', 'b', 'c', 'd', 'e'])\n",
    "\n",
    "# 1. Print rows from 'b' to 'd'\n",
    "print(df.loc['b':'d'], \"\\n\")\n",
    "\n",
    "# 2. Print only 'a' and 'e'\n",
    "print(df.loc[['a', 'e']],\"\\n\")\n",
    "\n",
    "# 3. Print rows at position 1 to 3\n",
    "print(df.iloc[1:4],\"\\n\")\n",
    "\n",
    "# 4. Print rows at position 0 and 4\n",
    "print(df.iloc[[0, 4]])"
   ]
  },
  {
   "cell_type": "markdown",
   "id": "26afc270",
   "metadata": {},
   "source": [
    "Boolean Subsetting"
   ]
  },
  {
   "cell_type": "code",
   "execution_count": null,
   "id": "2c24bb98",
   "metadata": {},
   "outputs": [
    {
     "name": "stdout",
     "output_type": "stream",
     "text": [
      "  Product  Price\n",
      "a    Book     50\n",
      "b     Pen     10\n",
      "d   Mouse     25 \n",
      "\n",
      "  Product  Price\n",
      "a    Book     50\n",
      "e     Bag    200 \n",
      "\n",
      "  Product  Price\n",
      "a    Book     50\n",
      "c  Laptop   1000\n",
      "d   Mouse     25\n",
      "e     Bag    200 \n",
      "\n",
      "  Product  Price\n",
      "e     Bag    200 \n",
      "\n",
      "  Product  Price\n",
      "a    Book     50\n",
      "b     Pen     10\n",
      "c  Laptop   1000\n",
      "d   Mouse     25 \n",
      "\n",
      "  Product  Price\n",
      "c  Laptop   1000\n"
     ]
    }
   ],
   "source": [
    "import pandas as pd\n",
    "\n",
    "data = {\n",
    "    'Product': ['Book', 'Pen', 'Laptop', 'Mouse', 'Bag'],\n",
    "    'Price': [50, 10, 1000, 25, 200]\n",
    "}\n",
    "df = pd.DataFrame(data, index = ['a', 'b', 'c', 'd', 'e'])\n",
    "\n",
    "# Products with price less than 100\n",
    "print(df[df['Price'] < 100], \"\\n\")\n",
    "\n",
    "# Products that are either 'Book' or 'Bag'\n",
    "print(df[(df['Product'] == 'Book') | (df['Product'] == 'Bag')], \"\\n\")\n",
    "\n",
    "# Products with price not equal to 10\n",
    "print(df[~(df['Price'] == 10)], \"\\n\")\n",
    "\n",
    "# Products with price between 50 and 500\n",
    "print(df[(df['Price'] > 50) & (df['Price'] < 500)], \"\\n\")\n",
    "\n",
    "# Products with price not equal to 200\n",
    "print(df[~(df['Price'] == 200)], \"\\n\")\n",
    "\n",
    "# Products where name starts with 'L'\n",
    "print(df[df['Product'].str.contains('L', case=False)])\n",
    "\n",
    "# Products with price > 20 and name is not \"Book\"\n",
    "print(df[~(df['Product'] == 'Book') & (df['Price'] > 20)])"
   ]
  },
  {
   "cell_type": "markdown",
   "id": "b07f0866",
   "metadata": {},
   "source": [
    "Column Access"
   ]
  },
  {
   "cell_type": "code",
   "execution_count": 39,
   "id": "1ad444ba",
   "metadata": {},
   "outputs": [
    {
     "name": "stdout",
     "output_type": "stream",
     "text": [
      "a      50\n",
      "b      10\n",
      "c    1000\n",
      "d      25\n",
      "e     200\n",
      "Name: Price, dtype: int64 \n",
      "\n",
      "  Product  Price\n",
      "a    Book     50\n",
      "b     Pen     10\n",
      "c  Laptop   1000\n",
      "d   Mouse     25\n",
      "e     Bag    200 \n",
      "\n",
      "  Product  Price\n",
      "c  Laptop   1000\n",
      "e     Bag    200 \n",
      "\n"
     ]
    },
    {
     "data": {
      "text/plain": [
       "Index(['Product', 'Price'], dtype='object')"
      ]
     },
     "execution_count": 39,
     "metadata": {},
     "output_type": "execute_result"
    }
   ],
   "source": [
    "# Access the 'Price' column as a Series\n",
    "print(df['Price'],\"\\n\")\n",
    "\n",
    "# Access both 'Product' and 'Price' columns\n",
    "print(df[['Product', 'Price']],\"\\n\")\n",
    "\n",
    "# Assign 'Price' to a variable and print only prices above 100\n",
    "price_above_100 = df[df['Price'] > 100]\n",
    "print(price_above_100,\"\\n\")\n",
    "\n",
    "# List all column names using .columns\n",
    "df.columns"
   ]
  },
  {
   "cell_type": "markdown",
   "id": "41bfc418",
   "metadata": {},
   "source": [
    " PIVOT vs PIVOT TABLE in pandas"
   ]
  },
  {
   "cell_type": "code",
   "execution_count": 55,
   "id": "5663706b",
   "metadata": {},
   "outputs": [
    {
     "name": "stdout",
     "output_type": "stream",
     "text": [
      "                Sales\n",
      "Region Product       \n",
      "Asia   Book       450\n",
      "       Pen        100\n",
      "Europe Book       300\n",
      "       Pen        280\n",
      "All              1130\n"
     ]
    }
   ],
   "source": [
    "import pandas as pd\n",
    "\n",
    "data = {\n",
    "    'Region': ['Asia', 'Asia', 'Europe', 'Europe', 'Asia', 'Europe'],\n",
    "    'Product': ['Pen', 'Book', 'Pen', 'Book', 'Book', 'Pen'],\n",
    "    'Sales': [100, 200, 150, 300, 250, 130]\n",
    "}\n",
    "df = pd.DataFrame(data, index=['a','b','c','d','e','f'])\n",
    "\n",
    "pivoted = df.pivot_table(\n",
    "    values= 'Sales',\n",
    "    index= ['Region', 'Product'],\n",
    "    aggfunc='sum',\n",
    "    margins=True\n",
    ")\n",
    "print(pivoted)"
   ]
  },
  {
   "cell_type": "code",
   "execution_count": 56,
   "id": "da59ae24",
   "metadata": {},
   "outputs": [
    {
     "name": "stdout",
     "output_type": "stream",
     "text": [
      "   Order ID  Region  Country   Product    Category  Sales  Quantity\n",
      "0       101    Asia    India       Pen  Stationery    100        10\n",
      "1       102    Asia    China      Book  Stationery    250        25\n",
      "2       103  Europe  Germany       Pen  Stationery    150        15\n",
      "3       104  Europe   France      Book  Stationery    300        30\n",
      "4       105    Asia    China      Book  Stationery    200        20\n",
      "5       106  Europe  Germany       Pen  Stationery    130        13\n",
      "6       107    Asia    India  Notebook  Stationery    180        18\n",
      "7       108  Europe   France  Notebook  Stationery    210        21\n"
     ]
    }
   ],
   "source": [
    "import pandas as pd\n",
    "\n",
    "data = {\n",
    "    'Order ID': [101, 102, 103, 104, 105, 106, 107, 108],\n",
    "    'Region': ['Asia', 'Asia', 'Europe', 'Europe', 'Asia', 'Europe', 'Asia', 'Europe'],\n",
    "    'Country': ['India', 'China', 'Germany', 'France', 'China', 'Germany', 'India', 'France'],\n",
    "    'Product': ['Pen', 'Book', 'Pen', 'Book', 'Book', 'Pen', 'Notebook', 'Notebook'],\n",
    "    'Category': ['Stationery', 'Stationery', 'Stationery', 'Stationery', 'Stationery', 'Stationery', 'Stationery', 'Stationery'],\n",
    "    'Sales': [100, 250, 150, 300, 200, 130, 180, 210],\n",
    "    'Quantity': [10, 25, 15, 30, 20, 13, 18, 21]\n",
    "}\n",
    "\n",
    "df = pd.DataFrame(data)\n",
    "print(df)\n"
   ]
  },
  {
   "cell_type": "code",
   "execution_count": 63,
   "id": "0d54562d",
   "metadata": {},
   "outputs": [
    {
     "name": "stdout",
     "output_type": "stream",
     "text": [
      "                 Sales\n",
      "Region Product        \n",
      "Asia   Book        450\n",
      "       Notebook    180\n",
      "       Pen         100\n",
      "Europe Book        300\n",
      "       Notebook    210\n",
      "       Pen         280\n",
      "All               1520\n"
     ]
    }
   ],
   "source": [
    "# Create a simple pivot showing sales by Region and Product\n",
    "\n",
    "# Use pivot_table() to show total sales by Region and Product\n",
    "pivoted_table = df.pivot_table(\n",
    "    values='Sales',\n",
    "    index='Region',\n",
    "    columns='Product',\n",
    "    aggfunc='sum'\n",
    ")\n",
    "# Change aggfunc to 'mean'\n",
    "pivoted_table = df.pivot_table(\n",
    "    values='Sales',\n",
    "    index='Region',\n",
    "    columns='Product',\n",
    "    aggfunc='mean'\n",
    ")\n",
    "\n",
    "# Add margins=True to show totals\n",
    "pivoted_table = df.pivot_table(\n",
    "    values='Sales',\n",
    "    index='Region',\n",
    "    columns='Product',\n",
    "    aggfunc='sum',\n",
    "    margins=True\n",
    ")\n",
    "\n",
    "# Try a 2-level index: index=['Region', 'Product']\n",
    "pivoted_table = df.pivot_table(\n",
    "    values='Sales',\n",
    "    index= ['Region', 'Product'],\n",
    "    aggfunc='sum',\n",
    "    margins=True\n",
    ")\n",
    "print(pivoted_table)"
   ]
  },
  {
   "cell_type": "markdown",
   "id": "4de77327",
   "metadata": {},
   "source": [
    "DataFrame Operations"
   ]
  },
  {
   "cell_type": "code",
   "execution_count": 122,
   "id": "6a33f173",
   "metadata": {},
   "outputs": [
    {
     "name": "stdout",
     "output_type": "stream",
     "text": [
      "   Order ID customer Name  Product   Qty Unit_Price  Purchase_Date\n",
      "0      1001         Alice       Pen  5.0         10     2025-06-01\n",
      "1      1002           Bob      Book  NaN         25     2025-06-03\n",
      "2      1003       Charlie  Notebook  3.0       15.5     2025-06-05\n",
      "3      1004          None       Pen  2.0         10     2025-06-06\n",
      "4      1005           Eve      Book  NaN         25     2025-06-07\n",
      "5      1006         Frank      None  1.0         30  not available\n"
     ]
    }
   ],
   "source": [
    "import pandas as pd\n",
    "import numpy as np\n",
    "\n",
    "# Raw data with mixed types, missing values, and inconsistent naming\n",
    "data = {\n",
    "    'Order ID': [1001, 1002, 1003, 1004, 1005, 1006],\n",
    "    'customer Name': ['Alice', 'Bob', 'Charlie', None, 'Eve', 'Frank'],\n",
    "    'Product ': ['Pen', 'Book', 'Notebook', 'Pen', 'Book', None],\n",
    "    'Qty': [5, np.nan, 3, 2, None, 1],\n",
    "    'Unit_Price': ['10', '25', '15.5', '10', '25', '30'],\n",
    "    'Purchase_Date': ['2025-06-01', '2025-06-03', '2025-06-05', '2025-06-06', '2025-06-07', 'not available']\n",
    "}\n",
    "\n",
    "df = pd.DataFrame(data)\n",
    "print(df)"
   ]
  },
  {
   "cell_type": "markdown",
   "id": "419ba4b8",
   "metadata": {},
   "source": [
    "EXERCISE 1: Renaming Columns\n",
    "Make column names consistent and professional."
   ]
  },
  {
   "cell_type": "code",
   "execution_count": 123,
   "id": "e531fc6b",
   "metadata": {},
   "outputs": [
    {
     "name": "stdout",
     "output_type": "stream",
     "text": [
      "   order_id customer   product  quantity unit_price  purchase_date\n",
      "0      1001    Alice       Pen       5.0         10     2025-06-01\n",
      "1      1002      Bob      Book       NaN         25     2025-06-03\n",
      "2      1003  Charlie  Notebook       3.0       15.5     2025-06-05\n",
      "3      1004     None       Pen       2.0         10     2025-06-06\n",
      "4      1005      Eve      Book       NaN         25     2025-06-07\n",
      "5      1006    Frank      None       1.0         30  not available\n"
     ]
    }
   ],
   "source": [
    "# Rename 'customer Name' to 'Customer' # Rename 'Product ' to 'Product' # Rename 'Qty' to 'Quantity'\n",
    "df.rename(columns={\n",
    "    'customer Name':'Customer',\n",
    "    'Product ': 'product',\n",
    "    'Qty' : 'quantity'\n",
    "    }, inplace=True)\n",
    "\n",
    "\n",
    "# Convert all column names to lowercase with underscores\n",
    "df.columns = [col.lower().replace(' ','_') for col in df.columns]\n",
    "\n",
    "print(df)"
   ]
  },
  {
   "cell_type": "markdown",
   "id": "5f303235",
   "metadata": {},
   "source": [
    "EXERCISE 2: Handling Missing Values\n",
    "Detect and clean missing data using .isnull() and .fillna()"
   ]
  },
  {
   "cell_type": "code",
   "execution_count": 124,
   "id": "15412ed6",
   "metadata": {},
   "outputs": [
    {
     "name": "stdout",
     "output_type": "stream",
     "text": [
      "order_id         0\n",
      "customer         1\n",
      "product          1\n",
      "quantity         2\n",
      "unit_price       0\n",
      "purchase_date    0\n",
      "dtype: int64 \n",
      "\n"
     ]
    },
    {
     "name": "stderr",
     "output_type": "stream",
     "text": [
      "C:\\Users\\Acer\\AppData\\Local\\Temp\\ipykernel_4036\\3588963717.py:4: FutureWarning: A value is trying to be set on a copy of a DataFrame or Series through chained assignment using an inplace method.\n",
      "The behavior will change in pandas 3.0. This inplace method will never work because the intermediate object on which we are setting values always behaves as a copy.\n",
      "\n",
      "For example, when doing 'df[col].method(value, inplace=True)', try using 'df.method({col: value}, inplace=True)' or df[col] = df[col].method(value) instead, to perform the operation inplace on the original object.\n",
      "\n",
      "\n",
      "  df['quantity'].fillna(df['quantity'].mean(), inplace=True)\n",
      "C:\\Users\\Acer\\AppData\\Local\\Temp\\ipykernel_4036\\3588963717.py:7: FutureWarning: A value is trying to be set on a copy of a DataFrame or Series through chained assignment using an inplace method.\n",
      "The behavior will change in pandas 3.0. This inplace method will never work because the intermediate object on which we are setting values always behaves as a copy.\n",
      "\n",
      "For example, when doing 'df[col].method(value, inplace=True)', try using 'df.method({col: value}, inplace=True)' or df[col] = df[col].method(value) instead, to perform the operation inplace on the original object.\n",
      "\n",
      "\n",
      "  df['customer'].fillna('Unknown', inplace=True)\n"
     ]
    }
   ],
   "source": [
    "# Show which rows have missing values using df.isnull().sum()\n",
    "print(df.isnull().sum(), \"\\n\")\n",
    "# Fill missing 'Qty' values with the average quantity (use .mean())\n",
    "df['quantity'].fillna(df['quantity'].mean(), inplace=True)\n",
    "\n",
    "# Fill missing 'customer Name' with the string \"Unknown\"\n",
    "df['customer'].fillna('Unknown', inplace=True)\n",
    "\n",
    "# Drop rows where 'Product' is missing\n",
    "df.dropna(subset ='product', inplace=True)"
   ]
  },
  {
   "cell_type": "markdown",
   "id": "bcff32eb",
   "metadata": {},
   "source": [
    "EXERCISE 3: Changing Data Types\n",
    "Convert columns to the correct types for analysis\n",
    "\n"
   ]
  },
  {
   "cell_type": "code",
   "execution_count": 128,
   "id": "3067d7f9",
   "metadata": {},
   "outputs": [
    {
     "name": "stdout",
     "output_type": "stream",
     "text": [
      "order_id                  int64\n",
      "customer                 object\n",
      "product                  object\n",
      "quantity                float64\n",
      "unit_price              float64\n",
      "purchase_date    datetime64[ns]\n",
      "Total_Sales             float64\n",
      "dtype: object\n",
      "   order_id customer   product  quantity  unit_price purchase_date  \\\n",
      "0      1001    Alice       Pen      5.00        10.0    2025-06-01   \n",
      "1      1002      Bob      Book      2.75        25.0    2025-06-03   \n",
      "2      1003  Charlie  Notebook      3.00        15.5    2025-06-05   \n",
      "3      1004  Unknown       Pen      2.00        10.0    2025-06-06   \n",
      "4      1005      Eve      Book      2.75        25.0    2025-06-07   \n",
      "\n",
      "   Total_Sales  \n",
      "0        50.00  \n",
      "1        68.75  \n",
      "2        46.50  \n",
      "3        20.00  \n",
      "4        68.75  \n"
     ]
    }
   ],
   "source": [
    "# Convert 'Unit_Price' from string to float using .astype(float)\n",
    "df['unit_price'] = df['unit_price'].astype(float)\n",
    "\n",
    "# Convert 'Purchase_Date' to datetime (handle the 'not available' row without crashing)\n",
    "df['purchase_date'] = pd.to_datetime(df['purchase_date'], errors='coerce')\n",
    "\n",
    "# Verify the new data types using .dtypes\n",
    "\n",
    "# Create a new column 'Total_Sales' = Quantity * Unit_Price\n",
    "df['Total_Sales'] = df['quantity'] * df['unit_price']\n",
    "\n",
    "print(df.dtypes)\n",
    "print(df)"
   ]
  },
  {
   "cell_type": "code",
   "execution_count": 131,
   "id": "d4f6b56a",
   "metadata": {},
   "outputs": [
    {
     "data": {
      "text/html": [
       "<div>\n",
       "<style scoped>\n",
       "    .dataframe tbody tr th:only-of-type {\n",
       "        vertical-align: middle;\n",
       "    }\n",
       "\n",
       "    .dataframe tbody tr th {\n",
       "        vertical-align: top;\n",
       "    }\n",
       "\n",
       "    .dataframe thead th {\n",
       "        text-align: right;\n",
       "    }\n",
       "</style>\n",
       "<table border=\"1\" class=\"dataframe\">\n",
       "  <thead>\n",
       "    <tr style=\"text-align: right;\">\n",
       "      <th></th>\n",
       "      <th>order_id</th>\n",
       "      <th>customer</th>\n",
       "      <th>product</th>\n",
       "      <th>quantity</th>\n",
       "      <th>unit_price</th>\n",
       "      <th>purchase_date</th>\n",
       "      <th>Total_Sales</th>\n",
       "    </tr>\n",
       "  </thead>\n",
       "  <tbody>\n",
       "    <tr>\n",
       "      <th>0</th>\n",
       "      <td>1001</td>\n",
       "      <td>Alice</td>\n",
       "      <td>Pen</td>\n",
       "      <td>5.00</td>\n",
       "      <td>10.0</td>\n",
       "      <td>2025-06-01</td>\n",
       "      <td>50.00</td>\n",
       "    </tr>\n",
       "    <tr>\n",
       "      <th>1</th>\n",
       "      <td>1002</td>\n",
       "      <td>Bob</td>\n",
       "      <td>Book</td>\n",
       "      <td>2.75</td>\n",
       "      <td>25.0</td>\n",
       "      <td>2025-06-03</td>\n",
       "      <td>68.75</td>\n",
       "    </tr>\n",
       "    <tr>\n",
       "      <th>2</th>\n",
       "      <td>1003</td>\n",
       "      <td>Charlie</td>\n",
       "      <td>Notebook</td>\n",
       "      <td>3.00</td>\n",
       "      <td>15.5</td>\n",
       "      <td>2025-06-05</td>\n",
       "      <td>46.50</td>\n",
       "    </tr>\n",
       "    <tr>\n",
       "      <th>3</th>\n",
       "      <td>1004</td>\n",
       "      <td>Unknown</td>\n",
       "      <td>Pen</td>\n",
       "      <td>2.00</td>\n",
       "      <td>10.0</td>\n",
       "      <td>2025-06-06</td>\n",
       "      <td>20.00</td>\n",
       "    </tr>\n",
       "    <tr>\n",
       "      <th>4</th>\n",
       "      <td>1005</td>\n",
       "      <td>Eve</td>\n",
       "      <td>Book</td>\n",
       "      <td>2.75</td>\n",
       "      <td>25.0</td>\n",
       "      <td>2025-06-07</td>\n",
       "      <td>68.75</td>\n",
       "    </tr>\n",
       "  </tbody>\n",
       "</table>\n",
       "</div>"
      ],
      "text/plain": [
       "   order_id customer   product  quantity  unit_price purchase_date  \\\n",
       "0      1001    Alice       Pen      5.00        10.0    2025-06-01   \n",
       "1      1002      Bob      Book      2.75        25.0    2025-06-03   \n",
       "2      1003  Charlie  Notebook      3.00        15.5    2025-06-05   \n",
       "3      1004  Unknown       Pen      2.00        10.0    2025-06-06   \n",
       "4      1005      Eve      Book      2.75        25.0    2025-06-07   \n",
       "\n",
       "   Total_Sales  \n",
       "0        50.00  \n",
       "1        68.75  \n",
       "2        46.50  \n",
       "3        20.00  \n",
       "4        68.75  "
      ]
     },
     "execution_count": 131,
     "metadata": {},
     "output_type": "execute_result"
    }
   ],
   "source": [
    "df[['order_id', 'customer', 'product', 'quantity', 'unit_price', 'purchase_date', 'Total_Sales']]\n"
   ]
  }
 ],
 "metadata": {
  "kernelspec": {
   "display_name": "Python 3",
   "language": "python",
   "name": "python3"
  },
  "language_info": {
   "codemirror_mode": {
    "name": "ipython",
    "version": 3
   },
   "file_extension": ".py",
   "mimetype": "text/x-python",
   "name": "python",
   "nbconvert_exporter": "python",
   "pygments_lexer": "ipython3",
   "version": "3.11.9"
  }
 },
 "nbformat": 4,
 "nbformat_minor": 5
}
