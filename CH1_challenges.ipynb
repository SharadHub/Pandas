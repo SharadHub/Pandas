{
 "cells": [
  {
   "cell_type": "markdown",
   "id": "d09cbef2",
   "metadata": {},
   "source": [
    "Challenge 1: Sort & Filter Combo\n",
    "\n",
    "From the dataset, filter rows where:\n",
    "Weekly_Sales > 1500\n",
    "Belongs to Store 2\n",
    "Show only Store, Weekly_Sales\n",
    "Sort descending by Weekly_Sales"
   ]
  },
  {
   "cell_type": "code",
   "execution_count": 5,
   "id": "223d2937",
   "metadata": {},
   "outputs": [
    {
     "name": "stdout",
     "output_type": "stream",
     "text": [
      "     Store  Weekly_Sales\n",
      "189      2    3436007.68\n",
      "241      2    3224369.80\n",
      "185      2    2658725.29\n",
      "237      2    2614202.30\n",
      "188      2    2609166.75\n"
     ]
    }
   ],
   "source": [
    "import pandas as pd\n",
    "\n",
    "walmart = pd.read_csv(\"Walmart_Sales.csv\")\n",
    "\n",
    "rows = walmart[walmart['Weekly_Sales'] > 1500][walmart['Store'] == 2][['Store', 'Weekly_Sales']].sort_values(by='Weekly_Sales', ascending=False)\n",
    "print(rows.head())"
   ]
  },
  {
   "cell_type": "markdown",
   "id": "d2f7d32a",
   "metadata": {},
   "source": [
    "Challenge 2: Add Column + Sort Top Performers\n",
    "\n",
    "Add a column Profit = Weekly_Sales * 0.25\n",
    "Then show top 3 stores with the highest profit."
   ]
  },
  {
   "cell_type": "code",
   "execution_count": 40,
   "id": "355f7e09",
   "metadata": {},
   "outputs": [
    {
     "name": "stdout",
     "output_type": "stream",
     "text": [
      "      Store       Profit\n",
      "1905     14  954671.6125\n",
      "2763     20  941671.8575\n",
      "1333     10  937264.4225\n"
     ]
    }
   ],
   "source": [
    "walmart['Profit'] = walmart['Weekly_Sales'] * 0.25\n",
    "\n",
    "top3_STORES = walmart[['Store', 'Profit']]\n",
    "sort_top3 = top3_STORES.sort_values(by='Profit', ascending=False)\n",
    "print(sort_top3.head(3))"
   ]
  },
  {
   "cell_type": "markdown",
   "id": "30ccbf8d",
   "metadata": {},
   "source": [
    "Challenge 3: Combo-Attack with Logic\n",
    "\n",
    "Filter rows where:\n",
    "Weekly_Sales > 2000\n",
    "Store is NOT 3\n",
    "\n",
    "Then:\n",
    "Show only Store, Weekly_Sales\n",
    "Add Discounted_Sales = Weekly_Sales * 0.85\n",
    "Sort descending by Discounted_Sales\n",
    "\n",
    "Hint: Use != and method chaining."
   ]
  },
  {
   "cell_type": "code",
   "execution_count": 42,
   "id": "7e23d756",
   "metadata": {},
   "outputs": [
    {
     "name": "stdout",
     "output_type": "stream",
     "text": [
      "      Store        Date  Weekly_Sales  Holiday_Flag  Temperature  Fuel_Price  \\\n",
      "1905     14  24-12-2010    3818686.45             0        30.59       3.141   \n",
      "2763     20  24-12-2010    3766687.43             0        25.17       3.141   \n",
      "1333     10  24-12-2010    3749057.69             0        57.06       3.236   \n",
      "527       4  23-12-2011    3676388.98             0        35.92       3.103   \n",
      "1762     13  24-12-2010    3595903.20             0        34.90       2.846   \n",
      "\n",
      "             CPI  Unemployment       Profit  Discounted_Sales  \n",
      "1905  182.544590         8.724  954671.6125       3436817.805  \n",
      "2763  204.637673         7.484  941671.8575       3390018.687  \n",
      "1333  126.983581         9.003  937264.4225       3374151.921  \n",
      "527   129.984548         5.143  919097.2450       3308750.082  \n",
      "1762  126.983581         7.795  898975.8000       3236312.880  \n"
     ]
    }
   ],
   "source": [
    "result = (\n",
    "    walmart[walmart['Weekly_Sales'] > 2000][walmart['Store'] != 3]\n",
    "    .sort_values(by='Discounted_Sales', ascending=False)\n",
    "    .assign(Discounted_Sales = lambda x: x['Weekly_Sales'] * 0.9)\n",
    ")\n",
    "print(result.head())"
   ]
  }
 ],
 "metadata": {
  "kernelspec": {
   "display_name": "Python 3",
   "language": "python",
   "name": "python3"
  },
  "language_info": {
   "codemirror_mode": {
    "name": "ipython",
    "version": 3
   },
   "file_extension": ".py",
   "mimetype": "text/x-python",
   "name": "python",
   "nbconvert_exporter": "python",
   "pygments_lexer": "ipython3",
   "version": "3.11.9"
  }
 },
 "nbformat": 4,
 "nbformat_minor": 5
}
