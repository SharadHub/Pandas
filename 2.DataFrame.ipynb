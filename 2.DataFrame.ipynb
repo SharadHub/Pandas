{
 "cells": [
  {
   "cell_type": "markdown",
   "id": "9622947d",
   "metadata": {},
   "source": [
    "Having 2D labeled data structure with rows and columns like in SQL table and excel sheets is DataFrame of the Pandas."
   ]
  },
  {
   "cell_type": "markdown",
   "id": "73bdbab6",
   "metadata": {},
   "source": [
    "Ways of creating DataFrame:"
   ]
  },
  {
   "cell_type": "code",
   "execution_count": 2,
   "id": "020ee3da",
   "metadata": {},
   "outputs": [
    {
     "name": "stdout",
     "output_type": "stream",
     "text": [
      "     name  age     city\n",
      "0  bishal   22  sarlahi\n",
      "1  asmita   21    jhapa\n"
     ]
    }
   ],
   "source": [
    "# From Dictionary of lists\n",
    "\n",
    "import pandas as pd\n",
    "data = {\n",
    "    'name' : ['bishal', 'asmita'],\n",
    "    'age' : [22, 21],\n",
    "    'city' : ['sarlahi', 'jhapa']\n",
    "}\n",
    "df = pd.DataFrame(data)\n",
    "print(df)"
   ]
  },
  {
   "cell_type": "code",
   "execution_count": 5,
   "id": "b1f8675d",
   "metadata": {},
   "outputs": [
    {
     "name": "stdout",
     "output_type": "stream",
     "text": [
      "     name  age     city\n",
      "0  bishal   22  sarlahi\n",
      "1  asmita   21    jhapa\n"
     ]
    }
   ],
   "source": [
    "#From the list of the dictionaries\n",
    "\n",
    "data1 = [\n",
    "    {'name': 'bishal', 'age' : 22, 'city' : 'sarlahi'},\n",
    "    {'name': 'asmita', 'age' : 21, 'city' : 'jhapa'}\n",
    "]\n",
    "df1 = pd.DataFrame(data1)\n",
    "print(df1)"
   ]
  },
  {
   "cell_type": "code",
   "execution_count": 7,
   "id": "9b8c717f",
   "metadata": {},
   "outputs": [
    {
     "name": "stdout",
     "output_type": "stream",
     "text": [
      "    name  age\n",
      "0    ram   25\n",
      "1  shyam   22\n",
      "2   hari   20\n"
     ]
    }
   ],
   "source": [
    "# From a 2D list\n",
    "\n",
    "data2 = [['ram',25], ['shyam', 22], ['hari', 20]]\n",
    "\n",
    "df2 = pd.DataFrame(data2, columns = ['name', 'age'])\n",
    "print(df2)"
   ]
  },
  {
   "cell_type": "code",
   "execution_count": 14,
   "id": "9a05328e",
   "metadata": {},
   "outputs": [
    {
     "name": "stdout",
     "output_type": "stream",
     "text": [
      "student  asmita  bishal\n",
      "eng          90      91\n",
      "math         85      86\n",
      "nep          70      71\n"
     ]
    }
   ],
   "source": [
    "# from the dictionaries of series\n",
    "\n",
    "data3 = {\n",
    "    'asmita' : pd.Series([90, 85, 70], index = ['eng', 'math', 'nep']),\n",
    "    'bishal' : pd.Series([91, 86, 71], index = ['eng', 'math', 'nep'])\n",
    "}\n",
    "df3 = pd.DataFrame(data3)\n",
    "df3.columns.name = 'student'\n",
    "print(df3)"
   ]
  },
  {
   "cell_type": "code",
   "execution_count": null,
   "id": "de54da8c",
   "metadata": {},
   "outputs": [],
   "source": [
    "# From CSV and excel files\n",
    "\n",
    "dfi = pd.read_csv('filename.csv')\n",
    "dfii  = pd.read_excel('filename.xlsx')"
   ]
  },
  {
   "cell_type": "markdown",
   "id": "981353af",
   "metadata": {},
   "source": [
    "Create a DataFrame\n",
    "\n",
    "Then:\n",
    "Print the whole DataFrame\n",
    "Print only the 'Math' column\n",
    "Print Ram's Science marks\n",
    "Find the average marks in each subject"
   ]
  },
  {
   "cell_type": "code",
   "execution_count": 5,
   "id": "c70b6444",
   "metadata": {},
   "outputs": [
    {
     "name": "stdout",
     "output_type": "stream",
     "text": [
      "Student  Math  Science  English\n",
      "Ram        85       92       88\n",
      "Shyam      78       75       80\n",
      "Hari       96       89       85 \n",
      "\n",
      "Ram      85\n",
      "Shyam    78\n",
      "Hari     96\n",
      "Name: Math, dtype: int64 \n",
      "\n",
      "Ram's Mark in science is 92 \n",
      "\n",
      "The average marks in each subjects are Student\n",
      "Math       86.33\n",
      "Science    85.33\n",
      "English    84.33\n",
      "dtype: float64 \n",
      "\n",
      "Average marks of each students are \n",
      " Ram      88.33\n",
      "Shyam    77.67\n",
      "Hari     90.00\n",
      "dtype: float64\n"
     ]
    }
   ],
   "source": [
    "students = {\n",
    "    'Math' : [85, 78, 96],\n",
    "    'Science' : [92, 75, 89],\n",
    "    'English' : [88, 80, 85]\n",
    "}\n",
    "df = pd.DataFrame(students, index = ['Ram', 'Shyam', 'Hari'])\n",
    "df.columns.name = 'Student'\n",
    "print(df, \"\\n\")\n",
    "print(df['Math'], \"\\n\")\n",
    "print(f\"Ram's Mark in science is {df.loc['Ram', 'Science']} \\n\")\n",
    "\n",
    "columns_mean = df.mean()\n",
    "print(f\"The average marks in each subjects are {columns_mean.round(2)} \\n\")\n",
    "print(\"Average marks of each students are \\n\",df.mean(axis=1).round(2))\n",
    "\n",
    "# print(df.shape)\n",
    "# print(df.info())\n",
    "# print(df.describe())"
   ]
  }
 ],
 "metadata": {
  "kernelspec": {
   "display_name": "Python 3",
   "language": "python",
   "name": "python3"
  },
  "language_info": {
   "codemirror_mode": {
    "name": "ipython",
    "version": 3
   },
   "file_extension": ".py",
   "mimetype": "text/x-python",
   "name": "python",
   "nbconvert_exporter": "python",
   "pygments_lexer": "ipython3",
   "version": "3.11.9"
  }
 },
 "nbformat": 4,
 "nbformat_minor": 5
}
