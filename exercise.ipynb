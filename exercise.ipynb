{
 "cells": [
  {
   "cell_type": "markdown",
   "id": "18ef4053",
   "metadata": {},
   "source": [
    "Exercise Recap:\n",
    "\n",
    "Create a Series with 5 numbers\n",
    "Create a DataFrame with 3 rows of student data"
   ]
  },
  {
   "cell_type": "code",
   "execution_count": 1,
   "id": "82b2cf26",
   "metadata": {},
   "outputs": [],
   "source": [
    "import pandas as pd"
   ]
  },
  {
   "cell_type": "code",
   "execution_count": 2,
   "id": "de0d336e",
   "metadata": {},
   "outputs": [
    {
     "name": "stdout",
     "output_type": "stream",
     "text": [
      "0    10\n",
      "1    20\n",
      "2    30\n",
      "3    40\n",
      "4    50\n",
      "dtype: int64\n"
     ]
    }
   ],
   "source": [
    "s = pd.Series([10, 20, 30, 40, 50])\n",
    "\n",
    "print(s)"
   ]
  },
  {
   "cell_type": "code",
   "execution_count": 5,
   "id": "aca444cb",
   "metadata": {},
   "outputs": [
    {
     "name": "stdout",
     "output_type": "stream",
     "text": [
      "  student  subject  mark\n",
      "0     Ram  english    85\n",
      "1   Shyam     math    98\n",
      "2    Hari  science    90\n"
     ]
    }
   ],
   "source": [
    "d = pd.DataFrame({\n",
    "    'student' : ['Ram', 'Shyam', 'Hari'],\n",
    "    'subject' : ['english', 'math', 'science'],\n",
    "    'mark' : [85, 98, 90]\n",
    "})\n",
    "\n",
    "print(d)"
   ]
  },
  {
   "cell_type": "code",
   "execution_count": 2,
   "id": "3ed8a813",
   "metadata": {},
   "outputs": [
    {
     "name": "stdout",
     "output_type": "stream",
     "text": [
      "          OrderID         Customer   Product         Category   Sales  \\\n",
      "0  CA-2016-152156      Claire Gute   Stapler  Office Supplies  261.96   \n",
      "1  CA-2016-152157  Darrin Van Huff     Phone       Technology  731.94   \n",
      "2  CA-2016-138688   Sean O'Donnell     Chair        Furniture  957.58   \n",
      "3  US-2015-108966  Brosina Hoffman     Table        Furniture   22.37   \n",
      "4  US-2015-108967       John Smith  Bookcase        Furniture   48.86   \n",
      "\n",
      "   Quantity  Profit  \n",
      "0         2   41.91  \n",
      "1         3  219.58  \n",
      "2         5  183.25  \n",
      "3         2    2.52  \n",
      "4         7   14.60  \n"
     ]
    }
   ],
   "source": [
    "import pandas as pd\n",
    "\n",
    "# Sample data simulating a small Superstore sales dataset\n",
    "data = {\n",
    "    'OrderID': ['CA-2016-152156', 'CA-2016-152157', 'CA-2016-138688', 'US-2015-108966', 'US-2015-108967'],\n",
    "    'Customer': ['Claire Gute', 'Darrin Van Huff', 'Sean O\\'Donnell', 'Brosina Hoffman', 'John Smith'],\n",
    "    'Product': ['Stapler', 'Phone', 'Chair', 'Table', 'Bookcase'],\n",
    "    'Category': ['Office Supplies', 'Technology', 'Furniture', 'Furniture', 'Furniture'],\n",
    "    'Sales': [261.96, 731.94, 957.58, 22.37, 48.86],\n",
    "    'Quantity': [2, 3, 5, 2, 7],\n",
    "    'Profit': [41.91, 219.58, 183.25, 2.52, 14.60]\n",
    "}\n",
    "\n",
    "# Create DataFrame\n",
    "df = pd.DataFrame(data)\n",
    "print(df)\n"
   ]
  },
  {
   "cell_type": "markdown",
   "id": "49835c81",
   "metadata": {},
   "source": [
    "Your Task:\n",
    "\n",
    "How many rows and columns does this dataset have?\n",
    "Are there any missing values?\n",
    "What is the average quantity of products sold?\n",
    "What is the maximum profit made in a single order?\n",
    "What product categories are included in this dataset?\n",
    "Do you think any profit/sales values look suspicious?"
   ]
  },
  {
   "cell_type": "code",
   "execution_count": 7,
   "id": "1f2c05f4",
   "metadata": {},
   "outputs": [],
   "source": [
    "# print(df.head())\n",
    "# print(df.tail())\n",
    "# print(df.shape)\n",
    "# print(df.info())\n",
    "# print(df.describe())"
   ]
  },
  {
   "cell_type": "code",
   "execution_count": null,
   "id": "87c71ce8",
   "metadata": {},
   "outputs": [
    {
     "name": "stdout",
     "output_type": "stream",
     "text": [
      "            Sales  Quantity     Profit\n",
      "count    5.000000  5.000000    5.00000\n",
      "mean   404.542000  3.800000   92.37200\n",
      "std    420.099759  2.167948  101.37673\n",
      "min     22.370000  2.000000    2.52000\n",
      "25%     48.860000  2.000000   14.60000\n",
      "50%    261.960000  3.000000   41.91000\n",
      "75%    731.940000  5.000000  183.25000\n",
      "max    957.580000  7.000000  219.58000\n",
      "There is not anything suspicious\n"
     ]
    }
   ],
   "source": [
    "# number of rows and columns\n",
    "rows, columns = df.shape\n",
    "print(f\"There are {rows} rows and {columns} columns \\n\")\n",
    "\n",
    "# checking missing values\n",
    "print(df.info(), \"\\n\")\n",
    "print(\"There are not any missing values \\n\")\n",
    "\n",
    "# calculating average quantity of product sold\n",
    "avg_sales = df['Quantity']\n",
    "print(f\"Average quantity of product sold is {avg_sales.mean()} \\n\")\n",
    "\n",
    "# maximum profit made in a single order\n",
    "max_profit = df['Profit']\n",
    "print(f\"Maximum profit made in a single order is {max_profit.max()} \\n\")\n",
    "\n",
    "# accessing product categories\n",
    "print(df['Category'].unique(), \"\\n\")\n",
    "\n",
    "#suspicious product and sales\n",
    "print(df.describe())\n",
    "print(\"There is not anything suspicious\")\n"
   ]
  },
  {
   "cell_type": "markdown",
   "id": "968764ed",
   "metadata": {},
   "source": [
    "# Medium\n",
    "\n",
    "Load a sample CSV from Kaggle\n",
    "Show its head, tail, and info"
   ]
  },
  {
   "cell_type": "markdown",
   "id": "4d768a49",
   "metadata": {},
   "source": [
    "# Hard\n",
    "\n",
    "Load sales data\n",
    "Filter out expensive products\n",
    "Find the average price"
   ]
  }
 ],
 "metadata": {
  "kernelspec": {
   "display_name": "Python 3",
   "language": "python",
   "name": "python3"
  },
  "language_info": {
   "codemirror_mode": {
    "name": "ipython",
    "version": 3
   },
   "file_extension": ".py",
   "mimetype": "text/x-python",
   "name": "python",
   "nbconvert_exporter": "python",
   "pygments_lexer": "ipython3",
   "version": "3.11.9"
  }
 },
 "nbformat": 4,
 "nbformat_minor": 5
}
