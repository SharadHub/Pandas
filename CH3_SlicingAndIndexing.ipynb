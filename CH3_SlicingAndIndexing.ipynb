{
 "cells": [
  {
   "cell_type": "markdown",
   "id": "18559490",
   "metadata": {},
   "source": [
    "1. Explicit Indexes"
   ]
  },
  {
   "cell_type": "code",
   "execution_count": 1,
   "id": "f56a3c23",
   "metadata": {},
   "outputs": [
    {
     "name": "stdout",
     "output_type": "stream",
     "text": [
      "      Name  Score\n",
      "a    Alice     85\n",
      "b      Bob     90\n",
      "c  Charlie     95\n"
     ]
    }
   ],
   "source": [
    "import pandas as pd\n",
    "\n",
    "data = {'Name': ['Alice', 'Bob', 'Charlie'], 'Score': [85, 90, 95]}\n",
    "df = pd.DataFrame(data, index=['a', 'b', 'c'])\n",
    "\n",
    "print(df)"
   ]
  },
  {
   "cell_type": "markdown",
   "id": "d3ae6a5f",
   "metadata": {},
   "source": [
    "2. Setting and Removing Indexes"
   ]
  },
  {
   "cell_type": "code",
   "execution_count": null,
   "id": "0540aace",
   "metadata": {},
   "outputs": [
    {
     "name": "stdout",
     "output_type": "stream",
     "text": [
      "          Temperature\n",
      "City                 \n",
      "New York           21\n",
      "Paris              25\n",
      "London             19\n",
      "       City  Temperature\n",
      "0  New York           21\n",
      "1     Paris           25\n",
      "2    London           19\n"
     ]
    }
   ],
   "source": [
    "df = pd.DataFrame({\n",
    "    'City': ['New York', 'Paris', 'London'],\n",
    "    'Temperature': [21, 25, 19]\n",
    "})\n",
    "\n",
    "# Set 'City' as index\n",
    "df_indexed = df.set_index('City')\n",
    "print(df_indexed)\n",
    "\n",
    "# Reset to default index\n",
    "df_reset = df_indexed.reset_index()\n",
    "print(df_reset)"
   ]
  },
  {
   "cell_type": "markdown",
   "id": "cd518543",
   "metadata": {},
   "source": [
    "3. Subsetting with .loc[]"
   ]
  },
  {
   "cell_type": "code",
   "execution_count": 3,
   "id": "4d582032",
   "metadata": {},
   "outputs": [
    {
     "name": "stdout",
     "output_type": "stream",
     "text": [
      "Temperature    25\n",
      "Name: Paris, dtype: int64\n",
      "        Temperature\n",
      "City               \n",
      "Paris            25\n",
      "London           19\n"
     ]
    }
   ],
   "source": [
    "print(df_indexed.loc['Paris'])          # Single row\n",
    "print(df_indexed.loc[['Paris', 'London']])  # Multiple rows"
   ]
  },
  {
   "cell_type": "markdown",
   "id": "6e29bc61",
   "metadata": {},
   "source": [
    "4. Setting Multi-level Indexes"
   ]
  },
  {
   "cell_type": "code",
   "execution_count": null,
   "id": "573bc518",
   "metadata": {},
   "outputs": [
    {
     "name": "stdout",
     "output_type": "stream",
     "text": [
      "               Temperature\n",
      "Year City                 \n",
      "2020 New York           30\n",
      "     London             22\n",
      "2021 New York           35\n",
      "     London             25\n"
     ]
    }
   ],
   "source": [
    "df = pd.DataFrame({\n",
    "    'Year': [2020, 2020, 2021, 2021],\n",
    "    'City': ['New York', 'London', 'New York', 'London'],\n",
    "    'Temperature': [30, 22, 35, 25]\n",
    "})\n",
    "\n",
    "df_multi = df.set_index(['Year', 'City'])\n",
    "print(df_multi)"
   ]
  },
  {
   "cell_type": "markdown",
   "id": "2027be50",
   "metadata": {},
   "source": [
    "5. Sorting by Index Values"
   ]
  },
  {
   "cell_type": "code",
   "execution_count": 5,
   "id": "6489341f",
   "metadata": {},
   "outputs": [
    {
     "name": "stdout",
     "output_type": "stream",
     "text": [
      "               Temperature\n",
      "Year City                 \n",
      "2020 London             22\n",
      "     New York           30\n",
      "2021 London             25\n",
      "     New York           35\n",
      "               Temperature\n",
      "Year City                 \n",
      "2021 New York           35\n",
      "     London             25\n",
      "2020 New York           30\n",
      "     London             22\n"
     ]
    }
   ],
   "source": [
    "sorted_df = df_multi.sort_index()\n",
    "print(sorted_df)\n",
    "\n",
    "# Sort in descending order\n",
    "print(df_multi.sort_index(ascending=False))"
   ]
  },
  {
   "cell_type": "markdown",
   "id": "0eebfae4",
   "metadata": {},
   "source": [
    "6. Slicing and Subsetting with .loc[] and .iloc[]"
   ]
  },
  {
   "cell_type": "code",
   "execution_count": 6,
   "id": "c637da6f",
   "metadata": {},
   "outputs": [
    {
     "name": "stdout",
     "output_type": "stream",
     "text": [
      "Empty DataFrame\n",
      "Columns: [Temperature]\n",
      "Index: []\n",
      "   Year      City  Temperature\n",
      "0  2020  New York           30\n",
      "1  2020    London           22\n"
     ]
    }
   ],
   "source": [
    "# loc with slice\n",
    "print(df_indexed.loc['London':'Paris'])\n",
    "\n",
    "# iloc: Get rows 0 and 1\n",
    "print(df.iloc[0:2])"
   ]
  },
  {
   "cell_type": "markdown",
   "id": "b23e1a7c",
   "metadata": {},
   "source": [
    "7. Slicing Index Values"
   ]
  },
  {
   "cell_type": "code",
   "execution_count": 7,
   "id": "7942d134",
   "metadata": {},
   "outputs": [
    {
     "name": "stdout",
     "output_type": "stream",
     "text": [
      "          Temperature\n",
      "City                 \n",
      "London             19\n",
      "New York           21\n",
      "Paris              25\n"
     ]
    }
   ],
   "source": [
    "# Assuming index is sorted\n",
    "print(df_indexed.sort_index().loc['London':'Paris'])"
   ]
  },
  {
   "cell_type": "markdown",
   "id": "ddbd3158",
   "metadata": {},
   "source": [
    "8. Slicing in Both Directions"
   ]
  },
  {
   "cell_type": "code",
   "execution_count": 8,
   "id": "88da2f39",
   "metadata": {},
   "outputs": [
    {
     "name": "stdout",
     "output_type": "stream",
     "text": [
      "       City  Temperature\n",
      "0  New York           30\n",
      "1    London           22\n"
     ]
    }
   ],
   "source": [
    "print(df.loc[0:1, 'City':'Temperature'])  # Rows 0 and 1, all columns between City and Temperature"
   ]
  },
  {
   "cell_type": "markdown",
   "id": "4c252d0f",
   "metadata": {},
   "source": [
    "9. Slicing Time Series"
   ]
  },
  {
   "cell_type": "code",
   "execution_count": 9,
   "id": "37943e58",
   "metadata": {},
   "outputs": [
    {
     "name": "stdout",
     "output_type": "stream",
     "text": [
      "            Temp\n",
      "2020-01-02    23\n",
      "2020-01-03    21\n",
      "2020-01-04    20\n"
     ]
    }
   ],
   "source": [
    "date_index = pd.date_range('2020-01-01', periods=5)\n",
    "df = pd.DataFrame({'Temp': [22, 23, 21, 20, 19]}, index=date_index)\n",
    "\n",
    "print(df['2020-01-02':'2020-01-04'])"
   ]
  },
  {
   "cell_type": "markdown",
   "id": "0bc13f9b",
   "metadata": {},
   "source": [
    "10. Subsetting by Row/Column Number"
   ]
  },
  {
   "cell_type": "code",
   "execution_count": 10,
   "id": "3c240052",
   "metadata": {},
   "outputs": [
    {
     "name": "stdout",
     "output_type": "stream",
     "text": [
      "            Temp\n",
      "2020-01-01    22\n",
      "2020-01-02    23\n"
     ]
    }
   ],
   "source": [
    "print(df.iloc[0:2, 0:1])  # First 2 rows, first column"
   ]
  },
  {
   "cell_type": "markdown",
   "id": "92a52054",
   "metadata": {},
   "source": [
    "11. Working with Pivot Tables"
   ]
  },
  {
   "cell_type": "code",
   "execution_count": 14,
   "id": "be8e4a16",
   "metadata": {},
   "outputs": [
    {
     "name": "stdout",
     "output_type": "stream",
     "text": [
      "City  Chicago  Los Angeles  New York\n",
      "Year                                \n",
      "2020     20.0         25.0      30.0\n",
      "2021     22.0         28.0      35.0\n"
     ]
    }
   ],
   "source": [
    "import pandas as pd\n",
    "\n",
    "# Sample dataset\n",
    "df = pd.DataFrame({\n",
    "    'City': ['New York', 'New York', 'Los Angeles', 'Los Angeles', 'Chicago', 'Chicago'],\n",
    "    'Year': [2020, 2021, 2020, 2021, 2020, 2021],\n",
    "    'Temperature': [30, 35, 25, 28, 20, 22]\n",
    "})\n",
    "\n",
    "# Create pivot table\n",
    "pivot = df.pivot_table(\n",
    "    values='Temperature',\n",
    "    index='Year',          # group by rows\n",
    "    columns='City',        # spread by city\n",
    "    aggfunc='mean'         # what calculation to apply\n",
    ")\n",
    "\n",
    "print(pivot)"
   ]
  },
  {
   "cell_type": "markdown",
   "id": "96b17afa",
   "metadata": {},
   "source": [
    "12. Pivot Temperature by City and Year"
   ]
  },
  {
   "cell_type": "code",
   "execution_count": 11,
   "id": "ac20d66f",
   "metadata": {},
   "outputs": [
    {
     "name": "stdout",
     "output_type": "stream",
     "text": [
      "City    LA    NY\n",
      "Year            \n",
      "2020  25.0  30.0\n",
      "2021  28.0  32.0\n"
     ]
    }
   ],
   "source": [
    "df = pd.DataFrame({\n",
    "    'Year': [2020, 2020, 2021, 2021],\n",
    "    'City': ['NY', 'LA', 'NY', 'LA'],\n",
    "    'Temperature': [30, 25, 32, 28]\n",
    "})\n",
    "\n",
    "pivot = df.pivot_table(values='Temperature', index='Year', columns='City')\n",
    "print(pivot)"
   ]
  },
  {
   "cell_type": "markdown",
   "id": "61f97d75",
   "metadata": {},
   "source": [
    "13. Subsetting Pivot Tables"
   ]
  },
  {
   "cell_type": "code",
   "execution_count": 12,
   "id": "616cde82",
   "metadata": {},
   "outputs": [
    {
     "name": "stdout",
     "output_type": "stream",
     "text": [
      "Year\n",
      "2020    25.0\n",
      "2021    28.0\n",
      "Name: LA, dtype: float64\n",
      "32.0\n"
     ]
    }
   ],
   "source": [
    "# Subset specific value\n",
    "print(pivot['LA'])\n",
    "\n",
    "# Subset specific row & column\n",
    "print(pivot.loc[2021, 'NY'])"
   ]
  },
  {
   "cell_type": "markdown",
   "id": "c69f33ab",
   "metadata": {},
   "source": [
    "14. Calculating on a Pivot Table"
   ]
  },
  {
   "cell_type": "code",
   "execution_count": 13,
   "id": "a38f54cb",
   "metadata": {},
   "outputs": [
    {
     "name": "stdout",
     "output_type": "stream",
     "text": [
      "Year\n",
      "2020    27.5\n",
      "2021    30.0\n",
      "dtype: float64\n",
      "City\n",
      "LA    26.5\n",
      "NY    31.0\n",
      "dtype: float64\n"
     ]
    }
   ],
   "source": [
    "# Mean temperature per year\n",
    "print(pivot.mean(axis=1))  # Mean across cities for each year\n",
    "\n",
    "# Mean temperature per city\n",
    "print(pivot.mean(axis=0))  # Mean across years for each city"
   ]
  }
 ],
 "metadata": {
  "kernelspec": {
   "display_name": "Python 3",
   "language": "python",
   "name": "python3"
  },
  "language_info": {
   "codemirror_mode": {
    "name": "ipython",
    "version": 3
   },
   "file_extension": ".py",
   "mimetype": "text/x-python",
   "name": "python",
   "nbconvert_exporter": "python",
   "pygments_lexer": "ipython3",
   "version": "3.11.9"
  }
 },
 "nbformat": 4,
 "nbformat_minor": 5
}
