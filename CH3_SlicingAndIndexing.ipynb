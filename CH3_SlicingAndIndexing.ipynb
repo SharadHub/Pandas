{
 "cells": [
  {
   "cell_type": "markdown",
   "id": "732f895d",
   "metadata": {},
   "source": [
    "1. Explicit Indexes (50 XP)\n",
    "\n",
    "Create a DataFrame of 3 countries and their populations. Set the country names as the index. Access a single row by its index label."
   ]
  },
  {
   "cell_type": "code",
   "execution_count": 14,
   "id": "9c6d92e6",
   "metadata": {},
   "outputs": [
    {
     "name": "stdout",
     "output_type": "stream",
     "text": [
      "Country  Population\n",
      "India    1440000000\n",
      "USA      1410000000\n",
      "China     339000000 \n",
      "\n",
      "Country\n",
      "Population    1440000000\n",
      "Name: India, dtype: int64\n"
     ]
    }
   ],
   "source": [
    "import pandas as pd\n",
    "\n",
    "country = pd.DataFrame({\n",
    "    'Population' : [1440000000, 1410000000, 339000000]\n",
    "}, index = ['India', 'USA', 'China'])\n",
    "country.columns.name = 'Country'\n",
    "print(country,\"\\n\")\n",
    "row = country.loc['India']\n",
    "print(row)\n"
   ]
  },
  {
   "cell_type": "markdown",
   "id": "e44884f5",
   "metadata": {},
   "source": [
    "2. Setting and Removing Indexes (100 XP)\n",
    "\n",
    "Create a DataFrame of students and their grades. Set the 'Student Name' column as index. Then remove it."
   ]
  },
  {
   "cell_type": "code",
   "execution_count": 45,
   "id": "360514d4",
   "metadata": {},
   "outputs": [
    {
     "name": "stdout",
     "output_type": "stream",
     "text": [
      "               Names Grades\n",
      "(0, Ram, A)      Ram      A\n",
      "(1, Shyam, A)  Shyam      A\n",
      "(2, Hari, B)    Hari      B\n"
     ]
    }
   ],
   "source": [
    "student = pd.DataFrame({\n",
    "    'Names': ['Ram', 'Shyam', 'Hari'],\n",
    "    'Grades' : ['A', 'A', 'B']\n",
    "})\n",
    "\n",
    "# student.index = student['Names']\n",
    "student.index = student.reset_index()\n",
    "\n",
    "print(student)"
   ]
  }
 ],
 "metadata": {
  "kernelspec": {
   "display_name": "Python 3",
   "language": "python",
   "name": "python3"
  },
  "language_info": {
   "codemirror_mode": {
    "name": "ipython",
    "version": 3
   },
   "file_extension": ".py",
   "mimetype": "text/x-python",
   "name": "python",
   "nbconvert_exporter": "python",
   "pygments_lexer": "ipython3",
   "version": "3.11.9"
  }
 },
 "nbformat": 4,
 "nbformat_minor": 5
}
