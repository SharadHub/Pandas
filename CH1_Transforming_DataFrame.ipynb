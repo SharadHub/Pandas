{
 "cells": [
  {
   "cell_type": "markdown",
   "id": "8a8ca6bf",
   "metadata": {},
   "source": [
    " Introducing DataFrames\n",
    "Create a DataFrame with Product, Quantity, and Price."
   ]
  },
  {
   "cell_type": "code",
   "execution_count": 1,
   "id": "f24e857b",
   "metadata": {},
   "outputs": [
    {
     "name": "stdout",
     "output_type": "stream",
     "text": [
      "  Product  Quantity   Price\n",
      "0   Table        20  100000\n",
      "1   Chair        10    5000\n",
      "2    Plug        30    6000\n",
      "3    Lamp        50   50000\n"
     ]
    }
   ],
   "source": [
    "import pandas as pd\n",
    "\n",
    "shop = pd.DataFrame(\n",
    "    {\n",
    "        'Product' : ['Table', 'Chair', 'Plug', 'Lamp'],\n",
    "        'Quantity' : [20, 10, 30, 50],\n",
    "        'Price' : [100000, 5000, 6000, 50000]\n",
    "    }\n",
    ")\n",
    "print(shop)"
   ]
  },
  {
   "cell_type": "markdown",
   "id": "f7be42fd",
   "metadata": {},
   "source": [
    " Inspecting a DataFrame\n",
    "Load any DataFrame and use .info(), .describe(), .shape"
   ]
  },
  {
   "cell_type": "code",
   "execution_count": 2,
   "id": "4ed10dbc",
   "metadata": {},
   "outputs": [
    {
     "name": "stdout",
     "output_type": "stream",
     "text": [
      "(4, 3) \n",
      "\n",
      "        Quantity          Price\n",
      "count   4.000000       4.000000\n",
      "mean   27.500000   40250.000000\n",
      "std    17.078251   45021.291259\n",
      "min    10.000000    5000.000000\n",
      "25%    17.500000    5750.000000\n",
      "50%    25.000000   28000.000000\n",
      "75%    35.000000   62500.000000\n",
      "max    50.000000  100000.000000 \n",
      "\n",
      "<class 'pandas.core.frame.DataFrame'>\n",
      "RangeIndex: 4 entries, 0 to 3\n",
      "Data columns (total 3 columns):\n",
      " #   Column    Non-Null Count  Dtype \n",
      "---  ------    --------------  ----- \n",
      " 0   Product   4 non-null      object\n",
      " 1   Quantity  4 non-null      int64 \n",
      " 2   Price     4 non-null      int64 \n",
      "dtypes: int64(2), object(1)\n",
      "memory usage: 228.0+ bytes\n",
      "None \n",
      "\n"
     ]
    }
   ],
   "source": [
    "print(shop.shape, \"\\n\")\n",
    "print(shop.describe(),\"\\n\")\n",
    "print(shop.info(),\"\\n\")"
   ]
  },
  {
   "cell_type": "markdown",
   "id": "acd0efe1",
   "metadata": {},
   "source": [
    "Parts of a DataFrame\n",
    "Use .index, .columns, and .values on your DataFrame"
   ]
  },
  {
   "cell_type": "code",
   "execution_count": 8,
   "id": "26c96123",
   "metadata": {},
   "outputs": [
    {
     "name": "stdout",
     "output_type": "stream",
     "text": [
      "RangeIndex(start=0, stop=4, step=1) \n",
      "\n",
      "Index(['Product', 'Quantity', 'Price'], dtype='object') \n",
      "\n",
      "[['Table' 20 100000]\n",
      " ['Chair' 10 5000]\n",
      " ['Plug' 30 6000]\n",
      " ['Lamp' 50 50000]] \n",
      "\n"
     ]
    }
   ],
   "source": [
    "print(shop.index,\"\\n\")\n",
    "print(shop.columns,\"\\n\")\n",
    "print(shop.values,\"\\n\")\n"
   ]
  },
  {
   "cell_type": "markdown",
   "id": "22491a31",
   "metadata": {},
   "source": [
    "Sort by Price from high to low."
   ]
  },
  {
   "cell_type": "code",
   "execution_count": 9,
   "id": "1b01658c",
   "metadata": {},
   "outputs": [
    {
     "name": "stdout",
     "output_type": "stream",
     "text": [
      "  Product  Quantity   Price\n",
      "0   Table        20  100000\n",
      "3    Lamp        50   50000\n",
      "2    Plug        30    6000\n",
      "1   Chair        10    5000\n"
     ]
    }
   ],
   "source": [
    "print(shop.sort_values('Price', ascending=False))"
   ]
  },
  {
   "cell_type": "markdown",
   "id": "b400628a",
   "metadata": {},
   "source": [
    "Subsetting Columns\n",
    "Show only Product and Price."
   ]
  },
  {
   "cell_type": "code",
   "execution_count": 10,
   "id": "15c83248",
   "metadata": {},
   "outputs": [
    {
     "name": "stdout",
     "output_type": "stream",
     "text": [
      "  Product   Price\n",
      "0   Table  100000\n",
      "1   Chair    5000\n",
      "2    Plug    6000\n",
      "3    Lamp   50000\n"
     ]
    }
   ],
   "source": [
    "product_price = shop[['Product', 'Price']]\n",
    "print(product_price)"
   ]
  },
  {
   "cell_type": "markdown",
   "id": "4c40ecf0",
   "metadata": {},
   "source": [
    "Subsetting Rows\n",
    "Filter rows where Quantity > 10."
   ]
  },
  {
   "cell_type": "code",
   "execution_count": 11,
   "id": "df347da2",
   "metadata": {},
   "outputs": [
    {
     "name": "stdout",
     "output_type": "stream",
     "text": [
      "  Product  Quantity   Price\n",
      "0   Table        20  100000\n",
      "2    Plug        30    6000\n",
      "3    Lamp        50   50000\n"
     ]
    }
   ],
   "source": [
    "quantity_morethan_10 = shop[shop['Quantity'] > 10]\n",
    "print(quantity_morethan_10)"
   ]
  },
  {
   "cell_type": "markdown",
   "id": "ee52e415",
   "metadata": {},
   "source": [
    "Subsetting by Categorical Variable\n",
    "Filter rows where product is 'chair'"
   ]
  },
  {
   "cell_type": "code",
   "execution_count": 15,
   "id": "15a24d7a",
   "metadata": {},
   "outputs": [
    {
     "name": "stdout",
     "output_type": "stream",
     "text": [
      "Empty DataFrame\n",
      "Columns: [Product, Quantity, Price]\n",
      "Index: []\n"
     ]
    }
   ],
   "source": [
    "chair_only = shop[shop['Product'] == '']\n",
    "print(chair_only)"
   ]
  },
  {
   "cell_type": "markdown",
   "id": "9dbb4c25",
   "metadata": {},
   "source": [
    "New Columns\n",
    "Create a column Total = Price * Quantity."
   ]
  },
  {
   "cell_type": "code",
   "execution_count": 17,
   "id": "ac16ce74",
   "metadata": {},
   "outputs": [
    {
     "name": "stdout",
     "output_type": "stream",
     "text": [
      "0    2000000\n",
      "1      50000\n",
      "2     180000\n",
      "3    2500000\n",
      "dtype: int64\n",
      "  Product  Quantity   Price    Total\n",
      "0   Table        20  100000  2000000\n",
      "1   Chair        10    5000    50000\n",
      "2    Plug        30    6000   180000\n",
      "3    Lamp        50   50000  2500000\n"
     ]
    }
   ],
   "source": [
    "new_column = shop['Total'] = shop['Price'] * shop['Quantity']\n",
    "print(new_column)\n",
    "print(shop)"
   ]
  },
  {
   "cell_type": "markdown",
   "id": "e42503e0",
   "metadata": {},
   "source": [
    "Adding New Columns\n",
    "Add a column Store = 'Kathmandu'."
   ]
  },
  {
   "cell_type": "code",
   "execution_count": 24,
   "id": "8956ab7f",
   "metadata": {},
   "outputs": [
    {
     "name": "stdout",
     "output_type": "stream",
     "text": [
      "  Product  Quantity   Price    Total      Store\n",
      "0   Table        20  100000  2000000  Kathmandu\n",
      "1   Chair        10    5000    50000    Pokhara\n",
      "2    Plug        30    6000   180000   Lalitpur\n",
      "3    Lamp        50   50000  2500000  Bhaktapur\n"
     ]
    }
   ],
   "source": [
    "shop['Store'] = ['Kathmandu', 'Pokhara', 'Lalitpur', 'Bhaktapur']\n",
    "\n",
    "print(shop)"
   ]
  },
  {
   "cell_type": "markdown",
   "id": "72aaa2a3",
   "metadata": {},
   "source": [
    "Combo-Attack\n",
    "Filter Price > 100, show Product and Price, sort by Price."
   ]
  },
  {
   "cell_type": "code",
   "execution_count": 21,
   "id": "be901b1d",
   "metadata": {},
   "outputs": [
    {
     "name": "stdout",
     "output_type": "stream",
     "text": [
      "  Product   Price\n",
      "1   Chair    5000\n",
      "2    Plug    6000\n",
      "3    Lamp   50000\n",
      "0   Table  100000\n"
     ]
    }
   ],
   "source": [
    "filter_price = shop[shop['Price'] > 100][['Product', 'Price']].sort_values('Price')\n",
    "print(filter_price)\n"
   ]
  },
  {
   "cell_type": "markdown",
   "id": "887fad7e",
   "metadata": {},
   "source": [
    "Mini Project: Walmart Sales\n",
    "\n",
    "we are analyzing a Walmart sales dataset."
   ]
  },
  {
   "cell_type": "code",
   "execution_count": 5,
   "id": "0e80b6a3",
   "metadata": {},
   "outputs": [
    {
     "name": "stdout",
     "output_type": "stream",
     "text": [
      "   Store        Date  Weekly_Sales  Holiday_Flag  Temperature  Fuel_Price  \\\n",
      "0      1  05-02-2010    1643690.90             0        42.31       2.572   \n",
      "1      1  12-02-2010    1641957.44             1        38.51       2.548   \n",
      "2      1  19-02-2010    1611968.17             0        39.93       2.514   \n",
      "3      1  26-02-2010    1409727.59             0        46.63       2.561   \n",
      "4      1  05-03-2010    1554806.68             0        46.50       2.625   \n",
      "\n",
      "          CPI  Unemployment  \n",
      "0  211.096358         8.106  \n",
      "1  211.242170         8.106  \n",
      "2  211.289143         8.106  \n",
      "3  211.319643         8.106  \n",
      "4  211.350143         8.106  \n"
     ]
    }
   ],
   "source": [
    "#Load the dataset using pd.read_csv().\n",
    "# Inspect using .head(), .info(), .describe()\n",
    "\n",
    "walmart = pd.read_csv(\"Walmart_Sales.csv\")\n",
    "\n",
    "walmart.columns = walmart.columns.str.strip().str.replace('\"', ' ').str.replace(' ', ' ')\n",
    "print(walmart.head())\n"
   ]
  },
  {
   "cell_type": "code",
   "execution_count": null,
   "id": "1795d58b",
   "metadata": {},
   "outputs": [
    {
     "name": "stdout",
     "output_type": "stream",
     "text": [
      "      Store        Date  Weekly_Sales  Holiday_Flag  Temperature  Fuel_Price  \\\n",
      "1905     14  24-12-2010    3818686.45             0        30.59       3.141   \n",
      "2763     20  24-12-2010    3766687.43             0        25.17       3.141   \n",
      "1333     10  24-12-2010    3749057.69             0        57.06       3.236   \n",
      "527       4  23-12-2011    3676388.98             0        35.92       3.103   \n",
      "1762     13  24-12-2010    3595903.20             0        34.90       2.846   \n",
      "\n",
      "             CPI  Unemployment  \n",
      "1905  182.544590         8.724  \n",
      "2763  204.637673         7.484  \n",
      "1333  126.983581         9.003  \n",
      "527   129.984548         5.143  \n",
      "1762  126.983581         7.795   \n",
      "\n"
     ]
    }
   ],
   "source": [
    "# Subset:\n",
    "# Rows where sales > 100\n",
    "\n",
    "sales_more_than100 = walmart[walmart['Weekly_Sales'] > 100]\n",
    "print(sales_more_than100.head(), \"\\n\")\n",
    "\n",
    "# Columns: Store, Weekly_Sales\n",
    "store_weekly_sales = walmart[['Store', 'Weekly_Sales']]\n",
    "print(store_weekly_sales.head(), \"\\n\")\n",
    "\n",
    "# Sort by Weekly_Sales (descending).\n",
    "sorting_weekly_sales = walmart.sort_values('Weekly_Sales', ascending=False)\n",
    "print(sorting_weekly_sales.head(), \"\\n\")\n"
   ]
  },
  {
   "cell_type": "code",
   "execution_count": 4,
   "id": "e3c9a401",
   "metadata": {},
   "outputs": [
    {
     "name": "stdout",
     "output_type": "stream",
     "text": [
      "     Store        Date  Weekly_Sales  Holiday_Flag  Temperature  Fuel_Price  \\\n",
      "46       1  24-12-2010    2387950.20             0        52.33       2.886   \n",
      "98       1  23-12-2011    2270188.99             0        47.96       3.112   \n",
      "94       1  25-11-2011    2033320.66             1        60.14       3.236   \n",
      "42       1  26-11-2010    1955624.11             1        64.52       2.735   \n",
      "113      1  06-04-2012    1899676.88             0        70.43       3.891   \n",
      "\n",
      "            CPI  Unemployment  Discounted_Sales  \n",
      "46   211.405122         7.838       2149155.180  \n",
      "98   219.357722         7.866       2043170.091  \n",
      "94   218.467621         7.866       1829988.594  \n",
      "42   211.748433         7.838       1760061.699  \n",
      "113  221.435611         7.143       1709709.192  \n"
     ]
    }
   ],
   "source": [
    "# Add column:\n",
    "# Discounted_Sales = Weekly_Sales * 0.9\n",
    "walmart['Discounted_Sales'] = walmart['Weekly_Sales'] * 0.9\n",
    "# print(walmart.head())\n",
    "\n",
    "# Filter for a single Store and show top 5 discounted sales.\n",
    "store_1 = walmart[walmart['Store'] == 1]\n",
    "\n",
    "sort_store_1 = store_1.sort_values(by='Discounted_Sales', ascending=False)\n",
    "top5_store1 = sort_store_1.head()\n",
    "print(top5_store1)\n"
   ]
  },
  {
   "cell_type": "code",
   "execution_count": null,
   "id": "fdad4845",
   "metadata": {},
   "outputs": [
    {
     "name": "stdout",
     "output_type": "stream",
     "text": [
      "      Store  Weekly_Sales  Discounted_Sales\n",
      "1905     14    3818686.45       3436817.805\n",
      "2763     20    3766687.43       3390018.687\n",
      "1333     10    3749057.69       3374151.921\n",
      "527       4    3676388.98       3308750.082\n",
      "1762     13    3595903.20       3236312.880\n"
     ]
    }
   ],
   "source": [
    "# Try to combine steps 3 to 6 into one line using method chaining (combo-attack).\n",
    "\n",
    "result = (\n",
    "    walmart[walmart['Weekly_Sales'] > 100]\n",
    "    [['Store', 'Weekly_Sales']].sort_values(by='Weekly_Sales', ascending=False)\n",
    "    .assign(Discounted_Sales = lambda x: x['Weekly_Sales'] * 0.9)\n",
    ")\n",
    "\n",
    "print(result.head())\n"
   ]
  }
 ],
 "metadata": {
  "kernelspec": {
   "display_name": "Python 3",
   "language": "python",
   "name": "python3"
  },
  "language_info": {
   "codemirror_mode": {
    "name": "ipython",
    "version": 3
   },
   "file_extension": ".py",
   "mimetype": "text/x-python",
   "name": "python",
   "nbconvert_exporter": "python",
   "pygments_lexer": "ipython3",
   "version": "3.11.9"
  }
 },
 "nbformat": 4,
 "nbformat_minor": 5
}
