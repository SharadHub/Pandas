{
 "cells": [
  {
   "cell_type": "markdown",
   "id": "f31dfd3b",
   "metadata": {},
   "source": [
    "Pandas use series for 1D array.\n",
    "It is like column like list which have its own index numbers like [0,1,2,3,4,5,.......] but we can customize the index values."
   ]
  },
  {
   "cell_type": "code",
   "execution_count": 1,
   "id": "2639d269",
   "metadata": {},
   "outputs": [],
   "source": [
    "import pandas as pd"
   ]
  },
  {
   "cell_type": "code",
   "execution_count": null,
   "id": "daaf384a",
   "metadata": {},
   "outputs": [
    {
     "name": "stdout",
     "output_type": "stream",
     "text": [
      "0    1\n",
      "1    2\n",
      "2    3\n",
      "dtype: int64\n"
     ]
    }
   ],
   "source": [
    "s = pd.Series([1, 2, 3])\n",
    "print(s) # printing with default index values"
   ]
  },
  {
   "cell_type": "code",
   "execution_count": null,
   "id": "a3f34ee9",
   "metadata": {},
   "outputs": [
    {
     "name": "stdout",
     "output_type": "stream",
     "text": [
      "a    10\n",
      "b    20\n",
      "c    30\n",
      "dtype: int64\n"
     ]
    }
   ],
   "source": [
    "s = pd.Series([10, 20, 30], index = [\"a\", \"b\", \"c\"] )\n",
    "print(s) # printing with customize index values"
   ]
  }
 ],
 "metadata": {
  "kernelspec": {
   "display_name": "Python 3",
   "language": "python",
   "name": "python3"
  },
  "language_info": {
   "codemirror_mode": {
    "name": "ipython",
    "version": 3
   },
   "file_extension": ".py",
   "mimetype": "text/x-python",
   "name": "python",
   "nbconvert_exporter": "python",
   "pygments_lexer": "ipython3",
   "version": "3.11.9"
  }
 },
 "nbformat": 4,
 "nbformat_minor": 5
}
